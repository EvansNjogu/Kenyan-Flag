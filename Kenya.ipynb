{
 "cells": [
  {
   "cell_type": "markdown",
   "id": "94057ced",
   "metadata": {},
   "source": [
    "# Kenyan Flag using Python"
   ]
  },
  {
   "cell_type": "code",
   "execution_count": 73,
   "id": "794c99b6",
   "metadata": {},
   "outputs": [
    {
     "data": {
      "image/png": "[encoded data removed]",
      "text/plain": [
       "<Figure size 432x288 with 1 Axes>"
      ]
     },
     "metadata": {
      "needs_background": "light"
     },
     "output_type": "display_data"
    }
   ],
   "source": [
    "import numpy as np\n",
    "import matplotlib.pyplot as py\n",
    "import matplotlib.patches as patch\n",
    "#Plotting the colors in our national flag\n",
    "a = patch.Rectangle((0,3.0), width=12, height=2, facecolor='#006600', edgecolor='grey')\n",
    "b = patch.Rectangle((0,5.0), width=12, height=0.8, facecolor='#FFFFFF', edgecolor='grey')\n",
    "c = patch.Rectangle((0,5.2), width=12, height=2, facecolor='#BB0000', edgecolor='grey')\n",
    "b = patch.Rectangle((0,7.0), width=12, height=0.2, facecolor='#FFFFFF', edgecolor='grey')\n",
    "d = patch.Rectangle((0,7.0), width=12, height=2, facecolor='#000000', edgecolor='grey')\n",
    "m,n = py.subplots()\n",
    "n.add_patch(a)\n",
    "n.add_patch(b)\n",
    "n.add_patch(c)\n",
    "n.add_patch(d)\n",
    "n.add_patch(b)\n",
    "py.axis('equal')\n",
    "py.show()"
   ]
  },
  {
   "cell_type": "code",
   "execution_count": null,
   "id": "9b348df7",
   "metadata": {},
   "outputs": [],
   "source": []
  }
 ],
 "metadata": {
  "kernelspec": {
   "display_name": "Python 3 (ipykernel)",
   "language": "python",
   "name": "python3"
  },
  "language_info": {
   "codemirror_mode": {
    "name": "ipython",
    "version": 3
   },
   "file_extension": ".py",
   "mimetype": "text/x-python",
   "name": "python",
   "nbconvert_exporter": "python",
   "pygments_lexer": "ipython3",
   "version": "3.10.2"
  }
 },
 "nbformat": 4,
 "nbformat_minor": 5
}
